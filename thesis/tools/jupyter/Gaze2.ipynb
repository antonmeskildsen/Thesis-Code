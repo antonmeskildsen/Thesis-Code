{
 "cells": [
  {
   "cell_type": "code",
   "execution_count": 1,
   "metadata": {},
   "outputs": [
    {
     "name": "stderr",
     "output_type": "stream",
     "text": [
      "/Users/Anton/anaconda3/envs/iaml/lib/python3.7/site-packages/tensorflow/python/framework/dtypes.py:526: FutureWarning: Passing (type, 1) or '1type' as a synonym of type is deprecated; in a future version of numpy, it will be understood as (type, (1,)) / '(1,)type'.\n",
      "  _np_qint8 = np.dtype([(\"qint8\", np.int8, 1)])\n",
      "/Users/Anton/anaconda3/envs/iaml/lib/python3.7/site-packages/tensorflow/python/framework/dtypes.py:527: FutureWarning: Passing (type, 1) or '1type' as a synonym of type is deprecated; in a future version of numpy, it will be understood as (type, (1,)) / '(1,)type'.\n",
      "  _np_quint8 = np.dtype([(\"quint8\", np.uint8, 1)])\n",
      "/Users/Anton/anaconda3/envs/iaml/lib/python3.7/site-packages/tensorflow/python/framework/dtypes.py:528: FutureWarning: Passing (type, 1) or '1type' as a synonym of type is deprecated; in a future version of numpy, it will be understood as (type, (1,)) / '(1,)type'.\n",
      "  _np_qint16 = np.dtype([(\"qint16\", np.int16, 1)])\n",
      "/Users/Anton/anaconda3/envs/iaml/lib/python3.7/site-packages/tensorflow/python/framework/dtypes.py:529: FutureWarning: Passing (type, 1) or '1type' as a synonym of type is deprecated; in a future version of numpy, it will be understood as (type, (1,)) / '(1,)type'.\n",
      "  _np_quint16 = np.dtype([(\"quint16\", np.uint16, 1)])\n",
      "/Users/Anton/anaconda3/envs/iaml/lib/python3.7/site-packages/tensorflow/python/framework/dtypes.py:530: FutureWarning: Passing (type, 1) or '1type' as a synonym of type is deprecated; in a future version of numpy, it will be understood as (type, (1,)) / '(1,)type'.\n",
      "  _np_qint32 = np.dtype([(\"qint32\", np.int32, 1)])\n",
      "/Users/Anton/anaconda3/envs/iaml/lib/python3.7/site-packages/tensorflow/python/framework/dtypes.py:535: FutureWarning: Passing (type, 1) or '1type' as a synonym of type is deprecated; in a future version of numpy, it will be understood as (type, (1,)) / '(1,)type'.\n",
      "  np_resource = np.dtype([(\"resource\", np.ubyte, 1)])\n",
      "2020-12-01 02:16:23.035 WARNING tensorflow: From /Users/Anton/Documents/git/thesis/Thesis-Code/thesis/deepeye/deepeye.py:39: conv2d (from tensorflow.python.layers.convolutional) is deprecated and will be removed in a future version.\n",
      "Instructions for updating:\n",
      "Use keras.layers.conv2d instead.\n",
      "2020-12-01 02:16:23.046 WARNING tensorflow: From /Users/Anton/anaconda3/envs/iaml/lib/python3.7/site-packages/tensorflow/python/framework/op_def_library.py:263: colocate_with (from tensorflow.python.framework.ops) is deprecated and will be removed in a future version.\n",
      "Instructions for updating:\n",
      "Colocations handled automatically by placer.\n",
      "2020-12-01 02:16:23.057 WARNING tensorflow: From /Users/Anton/Documents/git/thesis/Thesis-Code/thesis/deepeye/deepeye.py:42: batch_normalization (from tensorflow.python.layers.normalization) is deprecated and will be removed in a future version.\n",
      "Instructions for updating:\n",
      "Use keras.layers.batch_normalization instead.\n"
     ]
    },
    {
     "name": "stdout",
     "output_type": "stream",
     "text": [
      "Deep_eye\n",
      "conv_unit_1\n",
      "stride_unit_1\n"
     ]
    },
    {
     "name": "stderr",
     "output_type": "stream",
     "text": [
      "2020-12-01 02:16:23.306 WARNING tensorflow: From /Users/Anton/Documents/git/thesis/Thesis-Code/thesis/deepeye/deepeye.py:74: average_pooling2d (from tensorflow.python.layers.pooling) is deprecated and will be removed in a future version.\n",
      "Instructions for updating:\n",
      "Use keras.layers.average_pooling2d instead.\n"
     ]
    },
    {
     "name": "stdout",
     "output_type": "stream",
     "text": [
      "Last_conv1x1_1\n",
      "conv_unit_2\n",
      "stride_unit_2\n",
      "Last_conv1x1_2\n",
      "atrous_unit_1\n"
     ]
    },
    {
     "name": "stderr",
     "output_type": "stream",
     "text": [
      "2020-12-01 02:16:24.403 WARNING tensorflow: From /Users/Anton/Documents/git/thesis/Thesis-Code/thesis/deepeye/deepeye.py:109: max_pooling2d (from tensorflow.python.layers.pooling) is deprecated and will be removed in a future version.\n",
      "Instructions for updating:\n",
      "Use keras.layers.max_pooling2d instead.\n"
     ]
    },
    {
     "name": "stdout",
     "output_type": "stream",
     "text": [
      "conv_unit_3\n",
      "atrous_unit_2\n",
      "conv_unit_4\n",
      "Last_conv1x1_3\n"
     ]
    },
    {
     "name": "stderr",
     "output_type": "stream",
     "text": [
      "2020-12-01 02:16:25.762 WARNING tensorflow: From /Users/Anton/anaconda3/envs/iaml/lib/python3.7/site-packages/tensorflow/python/training/saver.py:1266: checkpoint_exists (from tensorflow.python.training.checkpoint_management) is deprecated and will be removed in a future version.\n",
      "Instructions for updating:\n",
      "Use standard file APIs to check for files with this prefix.\n",
      "2020-12-01 02:16:25.763 INFO    tensorflow: Restoring parameters from /Users/Anton/Documents/git/thesis/Thesis-Code/thesis/deepeye/models/default.ckpt\n"
     ]
    },
    {
     "name": "stdout",
     "output_type": "stream",
     "text": [
      "Model restored.\n"
     ]
    }
   ],
   "source": [
    "import os\n",
    "import yaml\n",
    "\n",
    "from thesis.tools.cli.utilities import load_gaze_data\n",
    "from thesis.optim import filters\n",
    "from thesis.optim.metrics import *\n",
    "\n",
    "import pandas as pd\n",
    "import numpy as np\n",
    "\n",
    "from tqdm import tqdm"
   ]
  },
  {
   "cell_type": "code",
   "execution_count": 2,
   "metadata": {},
   "outputs": [],
   "source": [
    "types = {\n",
    "    'blur': 'Destructive',\n",
    "    'noise': 'Additive',\n",
    "    'combo': 'Combined'\n",
    "}\n",
    "\n",
    "type_map = {k: types[v] for k, v in {\n",
    "    'bilateral_filter': 'blur',\n",
    "    'gaussian_filter': 'blur',\n",
    "    'mean_filter': 'blur',\n",
    "    'median_filter': 'blur',\n",
    "    'non_local_means': 'blur',\n",
    "    'uniform_noise': 'noise',\n",
    "    'gaussian_noise': 'noise',\n",
    "    'cauchy_noise': 'noise',\n",
    "    'laplacian_noise': 'noise',\n",
    "    'snow': 'noise',\n",
    "    'salt_and_pepper': 'noise',\n",
    "    'super_filter': 'combo',\n",
    "    'super_filter_reverse': 'combo'\n",
    "}.items()}\n",
    "\n",
    "filter_name_map = {\n",
    "    'bilateral_filter': 'Bilateral filter',\n",
    "    'gaussian_filter': 'Gaussian filter',\n",
    "    'mean_filter': 'Mean filter',\n",
    "    'median_filter': 'Median filter',\n",
    "    'non_local_means': 'Non-local means',\n",
    "    'uniform_noise': 'Uniform noise',\n",
    "    'gaussian_noise': 'Gaussian noise',\n",
    "    'cauchy_noise': 'Cauchy noise',\n",
    "    'laplacian_noise': 'Laplacian noise',\n",
    "    'snow': 'Snow noise',\n",
    "    'salt_and_pepper': 'Salt-and-pepper noise',\n",
    "    'super_filter': 'Comb',\n",
    "    'super_filter_reverse': 'Comb-reverse'\n",
    "}\n",
    "\n",
    "pretty_name_map = {\n",
    "    'gradient_entropy_iris_source': 'Entropy of source (iris) - gradient method',\n",
    "    'gradient_entropy_iris_filtered': 'Entropy of result (iris) - gradient method',\n",
    "    'gradient_mutual_information_iris': 'Mutual information (iris) - gradient method',\n",
    "    'gabor_entropy_iris_source_1.0x': 'Entropy of source (iris) - gabor method (3px)',\n",
    "    'gabor_entropy_iris_source_0.5x': 'Entropy of source (iris) - gabor method (6px)',\n",
    "    'gabor_entropy_iris_source_0.25x': 'Entropy of source (iris) - gabor method (12px)',\n",
    "    'gabor_entropy_iris_source_0.125x': 'Entropy of source (iris) - gabor method (24px)',\n",
    "    'gabor_entropy_iris_source_0.0625x': 'Entropy of source (iris) - gabor method (48px)',\n",
    "    'gabor_entropy_iris_filtered_1.0x': 'Entropy of result (iris) - gabor method (3px)',\n",
    "    'gabor_entropy_iris_filtered_0.5x': 'Entropy of result (iris) - gabor method (6px)',\n",
    "    'gabor_entropy_iris_filtered_0.25x': 'Entropy of result (iris) - gabor method (12px)',\n",
    "    'gabor_entropy_iris_filtered_0.125x': 'Entropy of result (iris) - gabor method (24px)',\n",
    "    'gabor_entropy_iris_filtered_0.0625x': 'Entropy of result (iris) - gabor method (48px)',\n",
    "    'gabor_mutual_information_iris_1.0x': 'Mutual information (iris) - gabor method (3px)',\n",
    "    'gabor_mutual_information_iris_0.5x': 'Mutual information (iris) - gabor method (6px)',\n",
    "    'gabor_mutual_information_iris_0.25x': 'Mutual information (iris) - gabor method (12px)',\n",
    "    'gabor_mutual_information_iris_0.125x': 'Mutual information (iris) - gabor method (24px)',\n",
    "    'gabor_mutual_information_iris_0.0625x': 'Mutual information (iris) - gabor method (48px)',\n",
    "    'gradient_entropy_image_source': 'Entropy of source (image) - gradient method',\n",
    "    'gradient_entropy_image_filtered': 'Entropy of result (image) - gradient method',\n",
    "    'gradient_mutual_information_image': 'Mutual information (image) - gradient method',\n",
    "    'gabor_entropy_image_source_1.0x': 'Entropy of source (image) - gabor method (3px)',\n",
    "    'gabor_entropy_image_source_0.5x': 'Entropy of source (image) - gabor method (6px)',\n",
    "    'gabor_entropy_image_source_0.25x': 'Entropy of source (image) - gabor method (12px)',\n",
    "    'gabor_entropy_image_source_0.125x': 'Entropy of source (image) - gabor method (24px)',\n",
    "    'gabor_entropy_image_source_0.0625x': 'Entropy of source (image) - gabor method (48px)',\n",
    "    'gabor_entropy_image_filtered_1.0x': 'Entropy of result (image) - gabor method (3px)',\n",
    "    'gabor_entropy_image_filtered_0.5x': 'Entropy of result (image) - gabor method (6px)',\n",
    "    'gabor_entropy_image_filtered_0.25x': 'Entropy of result (image) - gabor method (12px)',\n",
    "    'gabor_entropy_image_filtered_0.125x': 'Entropy of result (image) - gabor method (24px)',\n",
    "    'gabor_entropy_image_filtered_0.0625x': 'Entropy of result (image) - gabor method (48px)',\n",
    "    'gabor_mutual_information_image_1.0x': 'Mutual information (image) - gabor method (3px)',\n",
    "    'gabor_mutual_information_image_0.5x': 'Mutual information (image) - gabor method (6px)',\n",
    "    'gabor_mutual_information_image_0.25x': 'Mutual information (image) - gabor method (12px)',\n",
    "    'gabor_mutual_information_image_0.125x': 'Mutual information (image) - gabor method (24px)',\n",
    "    'gabor_mutual_information_image_0.0625x': 'Mutual information (image) - gabor method (48px)',\n",
    "    'iris_code_similarity': 'Iris code similarity',\n",
    "    'image_normalized_similarity': 'Image similarity',\n",
    "    'gaze_angle_error_source': 'Gaze error source',\n",
    "    'gaze_angle_error_filtered': 'Gaze error result',\n",
    "    'gaze_relative_error': 'Gaze error relative',\n",
    "    'pupil_distance_else_pixel_error_source': 'Pupil pixel distance error of source - ELSE method',\n",
    "    'pupil_distance_else_pixel_error_filtered': 'Pupil pixel distance error of result - ELSE method',\n",
    "    'pupil_distance_deep_eye_pixel_error_source': 'Pupil pixel distance error of source - DeepEye method',\n",
    "    'pupil_distance_deep_eye_pixel_error_filtered': 'Pupil pixel distance error of result - DeepEye method',\n",
    "    'pupil_relative_error_else': 'Pupil pixel distance relative - ELSE method',\n",
    "    'pupil_relative_error_deep_eye': 'Pupil pixel distance relative - DeepEye method',\n",
    "    'filter': 'Filter',\n",
    "    'k': 'Kernel size',\n",
    "    'h': '$h$',\n",
    "    'sigma': 'Variance',\n",
    "    'scale': 'Variance',\n",
    "    'intensity': 'Intensity',\n",
    "    'density': 'Density',\n",
    "    'sigma_s': 'Spatial variance',\n",
    "    'sigma_c': 'Colour variance',\n",
    "\n",
    "}"
   ]
  },
  {
   "cell_type": "code",
   "execution_count": 3,
   "metadata": {},
   "outputs": [
    {
     "name": "stdout",
     "output_type": "stream",
     "text": [
      "87.0\n",
      "87.0\n",
      "48.409\n",
      "48.409\n",
      "48.409\n"
     ]
    }
   ],
   "source": [
    "gaze_sets = ('far_home', 'mor_home', 'anton', 'maja', 'jakob')\n",
    "base_path = '/Users/Anton/MEGA/Data/thesis/gaze'\n",
    "gaze_paths = [os.path.join(base_path, g) for g in gaze_sets]\n",
    "datasets = load_gaze_data(gaze_paths)"
   ]
  },
  {
   "cell_type": "code",
   "execution_count": 4,
   "metadata": {},
   "outputs": [],
   "source": [
    "import matplotlib.pyplot as plt\n",
    "\n",
    "from styles import *\n",
    "from names import *"
   ]
  },
  {
   "cell_type": "code",
   "execution_count": 44,
   "metadata": {},
   "outputs": [
    {
     "data": {
      "image/png": "[encoded data removed]",
      "text/plain": [
       "<Figure size 358.655x110.831 with 2 Axes>"
      ]
     },
     "metadata": {},
     "output_type": "display_data"
    }
   ],
   "source": [
    "img = datasets[0].test_samples[5].image\n",
    "\n",
    "fig, ax = plt.subplots(1, 2, figsize=set_size('thesis', subplots=(1, 2), ratio=golden_ratio))\n",
    "ax[0].imshow(img, cmap='gray')\n",
    "xp = 259\n",
    "xpp = 270\n",
    "ax[0].hlines(xp, 0, 640, colors='b')\n",
    "ax[0].hlines(xpp, 0, 640, colors='r')\n",
    "\n",
    "x = np.arange(0, img.shape[1], 1)\n",
    "y = img[xp, :]\n",
    "y2 = img[xpp, :]\n",
    "\n",
    "ax[1].plot(x, y)\n",
    "ax[1].plot(x, y2, color='r')\n",
    "\n",
    "ax[0].set_xlim(0, 640)\n",
    "ax[0].set_ylim(480, 0)\n",
    "\n",
    "fig.savefig('out/1dimage.pdf', bbox_inches='tight', dpi=500)"
   ]
  },
  {
   "cell_type": "code",
   "execution_count": 7,
   "metadata": {},
   "outputs": [],
   "source": [
    "base = 'data/iris'\n",
    "fnames = ['1x', '1.5x', '2x', '5x', '10x']\n",
    "configs = []\n",
    "for name in fnames:\n",
    "    with open(os.path.join(base, f'{name}.yaml')) as f:\n",
    "        configs.append(yaml.safe_load(f))"
   ]
  },
  {
   "cell_type": "code",
   "execution_count": 8,
   "metadata": {},
   "outputs": [],
   "source": [
    "def test_filter(f_func, args):\n",
    "    logger = Logger()\n",
    "    me = GazeAccuracy()\n",
    "\n",
    "    for dset in tqdm(datasets):\n",
    "        for sample in dset.test_samples:\n",
    "            filtered = f_func(sample.image, **args)\n",
    "            me.log(logger, dset.model, sample, filtered)\n",
    "    \n",
    "    return logger"
   ]
  },
  {
   "cell_type": "code",
   "execution_count": 10,
   "metadata": {},
   "outputs": [
    {
     "name": "stderr",
     "output_type": "stream",
     "text": [
      "100%|██████████| 5/5 [02:23<00:00, 28.61s/it]\n"
     ]
    }
   ],
   "source": [
    "l = test_filter(lambda x: x, {})"
   ]
  },
  {
   "cell_type": "code",
   "execution_count": 11,
   "metadata": {},
   "outputs": [
    {
     "data": {
      "text/plain": [
       "[1.231023100385268, 1.231023100385268]"
      ]
     },
     "execution_count": 11,
     "metadata": {},
     "output_type": "execute_result"
    }
   ],
   "source": [
    "l.means()"
   ]
  },
  {
   "cell_type": "code",
   "execution_count": 77,
   "metadata": {},
   "outputs": [
    {
     "name": "stderr",
     "output_type": "stream",
     "text": [
      "  0%|          | 0/5 [00:00<?, ?it/s]"
     ]
    },
    {
     "name": "stdout",
     "output_type": "stream",
     "text": [
      "Config: 1x\n",
      "Filter: bilateral_filter\n"
     ]
    },
    {
     "name": "stderr",
     "output_type": "stream",
     "text": [
      "100%|██████████| 5/5 [02:47<00:00, 33.53s/it]\n",
      "  0%|          | 0/5 [00:00<?, ?it/s]"
     ]
    },
    {
     "name": "stdout",
     "output_type": "stream",
     "text": [
      "Filter: gaussian_filter\n"
     ]
    },
    {
     "name": "stderr",
     "output_type": "stream",
     "text": [
      "100%|██████████| 5/5 [02:09<00:00, 25.89s/it]\n",
      "  0%|          | 0/5 [00:00<?, ?it/s]"
     ]
    },
    {
     "name": "stdout",
     "output_type": "stream",
     "text": [
      "Filter: gaussian_noise\n"
     ]
    },
    {
     "name": "stderr",
     "output_type": "stream",
     "text": [
      "100%|██████████| 5/5 [02:15<00:00, 27.05s/it]\n",
      "  0%|          | 0/5 [00:00<?, ?it/s]"
     ]
    },
    {
     "name": "stdout",
     "output_type": "stream",
     "text": [
      "Filter: mean_filter\n"
     ]
    },
    {
     "name": "stderr",
     "output_type": "stream",
     "text": [
      "100%|██████████| 5/5 [02:11<00:00, 26.21s/it]\n",
      "  0%|          | 0/5 [00:00<?, ?it/s]"
     ]
    },
    {
     "name": "stdout",
     "output_type": "stream",
     "text": [
      "Filter: median_filter\n"
     ]
    },
    {
     "name": "stderr",
     "output_type": "stream",
     "text": [
      "100%|██████████| 5/5 [02:16<00:00, 27.26s/it]\n",
      "  0%|          | 0/5 [00:00<?, ?it/s]"
     ]
    },
    {
     "name": "stdout",
     "output_type": "stream",
     "text": [
      "Filter: non_local_means\n"
     ]
    },
    {
     "name": "stderr",
     "output_type": "stream",
     "text": [
      "100%|██████████| 5/5 [03:25<00:00, 41.03s/it]\n",
      "  0%|          | 0/5 [00:00<?, ?it/s]"
     ]
    },
    {
     "name": "stdout",
     "output_type": "stream",
     "text": [
      "Filter: uniform_noise\n"
     ]
    },
    {
     "name": "stderr",
     "output_type": "stream",
     "text": [
      "100%|██████████| 5/5 [02:15<00:00, 27.01s/it]\n",
      "  0%|          | 0/5 [00:00<?, ?it/s]"
     ]
    },
    {
     "name": "stdout",
     "output_type": "stream",
     "text": [
      "Filter: cauchy_noise\n"
     ]
    },
    {
     "name": "stderr",
     "output_type": "stream",
     "text": [
      "100%|██████████| 5/5 [02:08<00:00, 25.71s/it]\n",
      "  0%|          | 0/5 [00:00<?, ?it/s]"
     ]
    },
    {
     "name": "stdout",
     "output_type": "stream",
     "text": [
      "Filter: laplacian_noise\n"
     ]
    },
    {
     "name": "stderr",
     "output_type": "stream",
     "text": [
      "100%|██████████| 5/5 [02:10<00:00, 26.03s/it]\n",
      "  0%|          | 0/5 [00:00<?, ?it/s]"
     ]
    },
    {
     "name": "stdout",
     "output_type": "stream",
     "text": [
      "Filter: snow\n"
     ]
    },
    {
     "name": "stderr",
     "output_type": "stream",
     "text": [
      "100%|██████████| 5/5 [02:17<00:00, 27.44s/it]\n",
      "  0%|          | 0/5 [00:00<?, ?it/s]"
     ]
    },
    {
     "name": "stdout",
     "output_type": "stream",
     "text": [
      "Filter: salt_and_pepper\n"
     ]
    },
    {
     "name": "stderr",
     "output_type": "stream",
     "text": [
      "100%|██████████| 5/5 [02:19<00:00, 27.99s/it]\n",
      "  0%|          | 0/5 [00:00<?, ?it/s]"
     ]
    },
    {
     "name": "stdout",
     "output_type": "stream",
     "text": [
      "Filter: super_filter\n"
     ]
    },
    {
     "name": "stderr",
     "output_type": "stream",
     "text": [
      "100%|██████████| 5/5 [03:33<00:00, 42.62s/it]\n",
      "  0%|          | 0/5 [00:00<?, ?it/s]"
     ]
    },
    {
     "name": "stdout",
     "output_type": "stream",
     "text": [
      "Filter: super_filter_reverse\n"
     ]
    },
    {
     "name": "stderr",
     "output_type": "stream",
     "text": [
      "100%|██████████| 5/5 [03:29<00:00, 41.97s/it]\n",
      "  0%|          | 0/5 [00:00<?, ?it/s]"
     ]
    },
    {
     "name": "stdout",
     "output_type": "stream",
     "text": [
      "Config: 1.5x\n",
      "Filter: bilateral_filter\n"
     ]
    },
    {
     "name": "stderr",
     "output_type": "stream",
     "text": [
      "100%|██████████| 5/5 [03:09<00:00, 37.82s/it]\n",
      "  0%|          | 0/5 [00:00<?, ?it/s]"
     ]
    },
    {
     "name": "stdout",
     "output_type": "stream",
     "text": [
      "Filter: gaussian_noise\n"
     ]
    },
    {
     "name": "stderr",
     "output_type": "stream",
     "text": [
      "100%|██████████| 5/5 [02:43<00:00, 32.64s/it]\n",
      "  0%|          | 0/5 [00:00<?, ?it/s]"
     ]
    },
    {
     "name": "stdout",
     "output_type": "stream",
     "text": [
      "Filter: gaussian_filter\n"
     ]
    },
    {
     "name": "stderr",
     "output_type": "stream",
     "text": [
      "100%|██████████| 5/5 [03:03<00:00, 36.63s/it]\n",
      "  0%|          | 0/5 [00:00<?, ?it/s]"
     ]
    },
    {
     "name": "stdout",
     "output_type": "stream",
     "text": [
      "Filter: mean_filter\n"
     ]
    },
    {
     "name": "stderr",
     "output_type": "stream",
     "text": [
      "100%|██████████| 5/5 [02:14<00:00, 26.85s/it]\n",
      "  0%|          | 0/5 [00:00<?, ?it/s]"
     ]
    },
    {
     "name": "stdout",
     "output_type": "stream",
     "text": [
      "Filter: median_filter\n"
     ]
    },
    {
     "name": "stderr",
     "output_type": "stream",
     "text": [
      "100%|██████████| 5/5 [02:40<00:00, 32.02s/it]\n",
      "  0%|          | 0/5 [00:00<?, ?it/s]"
     ]
    },
    {
     "name": "stdout",
     "output_type": "stream",
     "text": [
      "Filter: non_local_means\n"
     ]
    },
    {
     "name": "stderr",
     "output_type": "stream",
     "text": [
      "100%|██████████| 5/5 [04:24<00:00, 52.97s/it]\n",
      "  0%|          | 0/5 [00:00<?, ?it/s]"
     ]
    },
    {
     "name": "stdout",
     "output_type": "stream",
     "text": [
      "Filter: uniform_noise\n"
     ]
    },
    {
     "name": "stderr",
     "output_type": "stream",
     "text": [
      "100%|██████████| 5/5 [02:36<00:00, 31.31s/it]\n",
      "  0%|          | 0/5 [00:00<?, ?it/s]"
     ]
    },
    {
     "name": "stdout",
     "output_type": "stream",
     "text": [
      "Filter: cauchy_noise\n"
     ]
    },
    {
     "name": "stderr",
     "output_type": "stream",
     "text": [
      "100%|██████████| 5/5 [02:38<00:00, 31.75s/it]\n",
      "  0%|          | 0/5 [00:00<?, ?it/s]"
     ]
    },
    {
     "name": "stdout",
     "output_type": "stream",
     "text": [
      "Filter: laplacian_noise\n"
     ]
    },
    {
     "name": "stderr",
     "output_type": "stream",
     "text": [
      "100%|██████████| 5/5 [02:29<00:00, 29.96s/it]\n",
      "  0%|          | 0/5 [00:00<?, ?it/s]"
     ]
    },
    {
     "name": "stdout",
     "output_type": "stream",
     "text": [
      "Filter: snow\n"
     ]
    },
    {
     "name": "stderr",
     "output_type": "stream",
     "text": [
      "100%|██████████| 5/5 [02:16<00:00, 27.34s/it]\n",
      "  0%|          | 0/5 [00:00<?, ?it/s]"
     ]
    },
    {
     "name": "stdout",
     "output_type": "stream",
     "text": [
      "Filter: salt_and_pepper\n"
     ]
    },
    {
     "name": "stderr",
     "output_type": "stream",
     "text": [
      "100%|██████████| 5/5 [02:21<00:00, 28.38s/it]\n",
      "  0%|          | 0/5 [00:00<?, ?it/s]"
     ]
    },
    {
     "name": "stdout",
     "output_type": "stream",
     "text": [
      "Filter: super_filter\n"
     ]
    },
    {
     "name": "stderr",
     "output_type": "stream",
     "text": [
      "100%|██████████| 5/5 [03:05<00:00, 37.15s/it]\n",
      "  0%|          | 0/5 [00:00<?, ?it/s]"
     ]
    },
    {
     "name": "stdout",
     "output_type": "stream",
     "text": [
      "Filter: super_filter_reverse\n"
     ]
    },
    {
     "name": "stderr",
     "output_type": "stream",
     "text": [
      "100%|██████████| 5/5 [03:07<00:00, 37.58s/it]\n",
      "  0%|          | 0/5 [00:00<?, ?it/s]"
     ]
    },
    {
     "name": "stdout",
     "output_type": "stream",
     "text": [
      "Config: 2x\n",
      "Filter: bilateral_filter\n"
     ]
    },
    {
     "name": "stderr",
     "output_type": "stream",
     "text": [
      "100%|██████████| 5/5 [02:36<00:00, 31.32s/it]\n",
      "  0%|          | 0/5 [00:00<?, ?it/s]"
     ]
    },
    {
     "name": "stdout",
     "output_type": "stream",
     "text": [
      "Filter: gaussian_noise\n"
     ]
    },
    {
     "name": "stderr",
     "output_type": "stream",
     "text": [
      "100%|██████████| 5/5 [02:18<00:00, 27.66s/it]\n",
      "  0%|          | 0/5 [00:00<?, ?it/s]"
     ]
    },
    {
     "name": "stdout",
     "output_type": "stream",
     "text": [
      "Filter: gaussian_filter\n"
     ]
    },
    {
     "name": "stderr",
     "output_type": "stream",
     "text": [
      "100%|██████████| 5/5 [02:16<00:00, 27.24s/it]\n",
      "  0%|          | 0/5 [00:00<?, ?it/s]"
     ]
    },
    {
     "name": "stdout",
     "output_type": "stream",
     "text": [
      "Filter: mean_filter\n"
     ]
    },
    {
     "name": "stderr",
     "output_type": "stream",
     "text": [
      "100%|██████████| 5/5 [02:15<00:00, 27.10s/it]\n",
      "  0%|          | 0/5 [00:00<?, ?it/s]"
     ]
    },
    {
     "name": "stdout",
     "output_type": "stream",
     "text": [
      "Filter: median_filter\n"
     ]
    },
    {
     "name": "stderr",
     "output_type": "stream",
     "text": [
      "100%|██████████| 5/5 [02:16<00:00, 27.23s/it]\n",
      "  0%|          | 0/5 [00:00<?, ?it/s]"
     ]
    },
    {
     "name": "stdout",
     "output_type": "stream",
     "text": [
      "Filter: non_local_means\n"
     ]
    },
    {
     "name": "stderr",
     "output_type": "stream",
     "text": [
      "100%|██████████| 5/5 [03:28<00:00, 41.68s/it]\n",
      "  0%|          | 0/5 [00:00<?, ?it/s]"
     ]
    },
    {
     "name": "stdout",
     "output_type": "stream",
     "text": [
      "Filter: uniform_noise\n"
     ]
    },
    {
     "name": "stderr",
     "output_type": "stream",
     "text": [
      "100%|██████████| 5/5 [02:16<00:00, 27.40s/it]\n",
      "  0%|          | 0/5 [00:00<?, ?it/s]"
     ]
    },
    {
     "name": "stdout",
     "output_type": "stream",
     "text": [
      "Filter: cauchy_noise\n"
     ]
    },
    {
     "name": "stderr",
     "output_type": "stream",
     "text": [
      "100%|██████████| 5/5 [02:17<00:00, 27.55s/it]\n",
      "  0%|          | 0/5 [00:00<?, ?it/s]"
     ]
    },
    {
     "name": "stdout",
     "output_type": "stream",
     "text": [
      "Filter: laplacian_noise\n"
     ]
    },
    {
     "name": "stderr",
     "output_type": "stream",
     "text": [
      "100%|██████████| 5/5 [02:19<00:00, 27.83s/it]\n",
      "  0%|          | 0/5 [00:00<?, ?it/s]"
     ]
    },
    {
     "name": "stdout",
     "output_type": "stream",
     "text": [
      "Filter: snow\n"
     ]
    },
    {
     "name": "stderr",
     "output_type": "stream",
     "text": [
      "100%|██████████| 5/5 [02:12<00:00, 26.56s/it]\n",
      "  0%|          | 0/5 [00:00<?, ?it/s]"
     ]
    },
    {
     "name": "stdout",
     "output_type": "stream",
     "text": [
      "Filter: salt_and_pepper\n"
     ]
    },
    {
     "name": "stderr",
     "output_type": "stream",
     "text": [
      "100%|██████████| 5/5 [02:12<00:00, 26.48s/it]\n",
      "  0%|          | 0/5 [00:00<?, ?it/s]"
     ]
    },
    {
     "name": "stdout",
     "output_type": "stream",
     "text": [
      "Filter: super_filter\n"
     ]
    },
    {
     "name": "stderr",
     "output_type": "stream",
     "text": [
      "100%|██████████| 5/5 [02:41<00:00, 32.26s/it]\n",
      "  0%|          | 0/5 [00:00<?, ?it/s]"
     ]
    },
    {
     "name": "stdout",
     "output_type": "stream",
     "text": [
      "Filter: super_filter_reverse\n"
     ]
    },
    {
     "name": "stderr",
     "output_type": "stream",
     "text": [
      "100%|██████████| 5/5 [03:17<00:00, 39.46s/it]\n",
      "  0%|          | 0/5 [00:00<?, ?it/s]"
     ]
    },
    {
     "name": "stdout",
     "output_type": "stream",
     "text": [
      "Config: 5x\n",
      "Filter: bilateral_filter\n"
     ]
    },
    {
     "name": "stderr",
     "output_type": "stream",
     "text": [
      "100%|██████████| 5/5 [02:34<00:00, 30.83s/it]\n",
      "  0%|          | 0/5 [00:00<?, ?it/s]"
     ]
    },
    {
     "name": "stdout",
     "output_type": "stream",
     "text": [
      "Filter: gaussian_noise\n"
     ]
    },
    {
     "name": "stderr",
     "output_type": "stream",
     "text": [
      "100%|██████████| 5/5 [02:16<00:00, 27.29s/it]\n",
      "  0%|          | 0/5 [00:00<?, ?it/s]"
     ]
    },
    {
     "name": "stdout",
     "output_type": "stream",
     "text": [
      "Filter: gaussian_filter\n"
     ]
    },
    {
     "name": "stderr",
     "output_type": "stream",
     "text": [
      "100%|██████████| 5/5 [02:14<00:00, 26.96s/it]\n",
      "  0%|          | 0/5 [00:00<?, ?it/s]"
     ]
    },
    {
     "name": "stdout",
     "output_type": "stream",
     "text": [
      "Filter: mean_filter\n"
     ]
    },
    {
     "name": "stderr",
     "output_type": "stream",
     "text": [
      "100%|██████████| 5/5 [02:15<00:00, 27.08s/it]\n",
      "  0%|          | 0/5 [00:00<?, ?it/s]"
     ]
    },
    {
     "name": "stdout",
     "output_type": "stream",
     "text": [
      "Filter: median_filter\n"
     ]
    },
    {
     "name": "stderr",
     "output_type": "stream",
     "text": [
      "100%|██████████| 5/5 [02:18<00:00, 27.63s/it]\n",
      "  0%|          | 0/5 [00:00<?, ?it/s]"
     ]
    },
    {
     "name": "stdout",
     "output_type": "stream",
     "text": [
      "Filter: non_local_means\n"
     ]
    },
    {
     "name": "stderr",
     "output_type": "stream",
     "text": [
      "100%|██████████| 5/5 [03:26<00:00, 41.37s/it]\n",
      "  0%|          | 0/5 [00:00<?, ?it/s]"
     ]
    },
    {
     "name": "stdout",
     "output_type": "stream",
     "text": [
      "Filter: uniform_noise\n"
     ]
    },
    {
     "name": "stderr",
     "output_type": "stream",
     "text": [
      "100%|██████████| 5/5 [02:17<00:00, 27.48s/it]\n",
      "  0%|          | 0/5 [00:00<?, ?it/s]"
     ]
    },
    {
     "name": "stdout",
     "output_type": "stream",
     "text": [
      "Filter: cauchy_noise\n"
     ]
    },
    {
     "name": "stderr",
     "output_type": "stream",
     "text": [
      "100%|██████████| 5/5 [02:17<00:00, 27.57s/it]\n",
      "  0%|          | 0/5 [00:00<?, ?it/s]"
     ]
    },
    {
     "name": "stdout",
     "output_type": "stream",
     "text": [
      "Filter: laplacian_noise\n"
     ]
    },
    {
     "name": "stderr",
     "output_type": "stream",
     "text": [
      "100%|██████████| 5/5 [02:17<00:00, 27.56s/it]\n",
      "  0%|          | 0/5 [00:00<?, ?it/s]"
     ]
    },
    {
     "name": "stdout",
     "output_type": "stream",
     "text": [
      "Filter: snow\n"
     ]
    },
    {
     "name": "stderr",
     "output_type": "stream",
     "text": [
      "100%|██████████| 5/5 [02:14<00:00, 26.81s/it]\n",
      "  0%|          | 0/5 [00:00<?, ?it/s]"
     ]
    },
    {
     "name": "stdout",
     "output_type": "stream",
     "text": [
      "Filter: salt_and_pepper\n"
     ]
    },
    {
     "name": "stderr",
     "output_type": "stream",
     "text": [
      "100%|██████████| 5/5 [02:19<00:00, 27.97s/it]\n",
      "  0%|          | 0/5 [00:00<?, ?it/s]"
     ]
    },
    {
     "name": "stdout",
     "output_type": "stream",
     "text": [
      "Filter: super_filter\n"
     ]
    },
    {
     "name": "stderr",
     "output_type": "stream",
     "text": [
      "100%|██████████| 5/5 [03:02<00:00, 36.45s/it]\n",
      "  0%|          | 0/5 [00:00<?, ?it/s]"
     ]
    },
    {
     "name": "stdout",
     "output_type": "stream",
     "text": [
      "Filter: super_filter_reverse\n"
     ]
    },
    {
     "name": "stderr",
     "output_type": "stream",
     "text": [
      "100%|██████████| 5/5 [03:14<00:00, 38.85s/it]\n",
      "  0%|          | 0/5 [00:00<?, ?it/s]"
     ]
    },
    {
     "name": "stdout",
     "output_type": "stream",
     "text": [
      "Config: 10x\n",
      "Filter: bilateral_filter\n"
     ]
    },
    {
     "name": "stderr",
     "output_type": "stream",
     "text": [
      "100%|██████████| 5/5 [02:29<00:00, 29.91s/it]\n",
      "  0%|          | 0/5 [00:00<?, ?it/s]"
     ]
    },
    {
     "name": "stdout",
     "output_type": "stream",
     "text": [
      "Filter: gaussian_noise\n"
     ]
    },
    {
     "name": "stderr",
     "output_type": "stream",
     "text": [
      "100%|██████████| 5/5 [02:17<00:00, 27.42s/it]\n",
      "  0%|          | 0/5 [00:00<?, ?it/s]"
     ]
    },
    {
     "name": "stdout",
     "output_type": "stream",
     "text": [
      "Filter: gaussian_filter\n"
     ]
    },
    {
     "name": "stderr",
     "output_type": "stream",
     "text": [
      "100%|██████████| 5/5 [02:17<00:00, 27.57s/it]\n",
      "  0%|          | 0/5 [00:00<?, ?it/s]"
     ]
    },
    {
     "name": "stdout",
     "output_type": "stream",
     "text": [
      "Filter: mean_filter\n"
     ]
    },
    {
     "name": "stderr",
     "output_type": "stream",
     "text": [
      "100%|██████████| 5/5 [02:14<00:00, 26.81s/it]\n",
      "  0%|          | 0/5 [00:00<?, ?it/s]"
     ]
    },
    {
     "name": "stdout",
     "output_type": "stream",
     "text": [
      "Filter: median_filter\n"
     ]
    },
    {
     "name": "stderr",
     "output_type": "stream",
     "text": [
      "100%|██████████| 5/5 [02:43<00:00, 32.76s/it]\n",
      "  0%|          | 0/5 [00:00<?, ?it/s]"
     ]
    },
    {
     "name": "stdout",
     "output_type": "stream",
     "text": [
      "Filter: non_local_means\n"
     ]
    },
    {
     "name": "stderr",
     "output_type": "stream",
     "text": [
      "100%|██████████| 5/5 [03:57<00:00, 47.51s/it]\n",
      "  0%|          | 0/5 [00:00<?, ?it/s]"
     ]
    },
    {
     "name": "stdout",
     "output_type": "stream",
     "text": [
      "Filter: uniform_noise\n"
     ]
    },
    {
     "name": "stderr",
     "output_type": "stream",
     "text": [
      "100%|██████████| 5/5 [02:46<00:00, 33.36s/it]\n",
      "  0%|          | 0/5 [00:00<?, ?it/s]"
     ]
    },
    {
     "name": "stdout",
     "output_type": "stream",
     "text": [
      "Filter: cauchy_noise\n"
     ]
    },
    {
     "name": "stderr",
     "output_type": "stream",
     "text": [
      "100%|██████████| 5/5 [02:54<00:00, 34.97s/it]\n",
      "  0%|          | 0/5 [00:00<?, ?it/s]"
     ]
    },
    {
     "name": "stdout",
     "output_type": "stream",
     "text": [
      "Filter: laplacian_noise\n"
     ]
    },
    {
     "name": "stderr",
     "output_type": "stream",
     "text": [
      "100%|██████████| 5/5 [02:14<00:00, 26.83s/it]\n",
      "  0%|          | 0/5 [00:00<?, ?it/s]"
     ]
    },
    {
     "name": "stdout",
     "output_type": "stream",
     "text": [
      "Filter: snow\n"
     ]
    },
    {
     "name": "stderr",
     "output_type": "stream",
     "text": [
      "100%|██████████| 5/5 [02:06<00:00, 25.38s/it]\n",
      "  0%|          | 0/5 [00:00<?, ?it/s]"
     ]
    },
    {
     "name": "stdout",
     "output_type": "stream",
     "text": [
      "Filter: salt_and_pepper\n"
     ]
    },
    {
     "name": "stderr",
     "output_type": "stream",
     "text": [
      "100%|██████████| 5/5 [02:15<00:00, 27.03s/it]\n",
      "  0%|          | 0/5 [00:00<?, ?it/s]"
     ]
    },
    {
     "name": "stdout",
     "output_type": "stream",
     "text": [
      "Filter: super_filter\n"
     ]
    },
    {
     "name": "stderr",
     "output_type": "stream",
     "text": [
      "100%|██████████| 5/5 [02:25<00:00, 29.03s/it]\n",
      "  0%|          | 0/5 [00:00<?, ?it/s]"
     ]
    },
    {
     "name": "stdout",
     "output_type": "stream",
     "text": [
      "Filter: super_filter_reverse\n"
     ]
    },
    {
     "name": "stderr",
     "output_type": "stream",
     "text": [
      "100%|██████████| 5/5 [02:49<00:00, 33.98s/it]\n"
     ]
    }
   ],
   "source": [
    "res = []\n",
    "for c, s in zip(configs, fnames):\n",
    "    print(f'Config: {s}')\n",
    "    cr = []\n",
    "    for k, v in list(c['filters'].items()):\n",
    "        print(f'Filter: {k}')\n",
    "        cr.append(test_filter(getattr(filters, k), v))\n",
    "    res.append(cr)    "
   ]
  },
  {
   "cell_type": "code",
   "execution_count": 82,
   "metadata": {},
   "outputs": [
    {
     "data": {
      "text/plain": [
       "defaultdict(list,\n",
       "            {'gaze_angle_error_source': [1.5284351345142,\n",
       "              1.6832871846221973,\n",
       "              0.8348415053910917,\n",
       "              0.4896783465679689,\n",
       "              2.176911000139518,\n",
       "              0.43540527823521025,\n",
       "              0.7627973754593882,\n",
       "              1.9587724705900655,\n",
       "              0.3082273841502467,\n",
       "              0.7518231491450095,\n",
       "              0.5709344533518771,\n",
       "              1.0948474949444542,\n",
       "              0.8917425429739658,\n",
       "              1.960096930378965,\n",
       "              1.345786959578976,\n",
       "              2.331866862314477,\n",
       "              1.2413968413251715,\n",
       "              0.34982679631502817,\n",
       "              0.8530552423484309,\n",
       "              2.866305633100495,\n",
       "              1.89115322727904,\n",
       "              1.8949621810279316,\n",
       "              1.200233403728558,\n",
       "              0.46997555947109715,\n",
       "              0.8845997048336979,\n",
       "              2.425232590502991,\n",
       "              2.2372989393151155,\n",
       "              1.473875322366921,\n",
       "              1.1108124944590871,\n",
       "              2.2171902018412477,\n",
       "              1.2661183292111418,\n",
       "              0.44997205756698816,\n",
       "              0.45304596927538904,\n",
       "              1.3725923442569414,\n",
       "              0.6300867739659123,\n",
       "              2.0192281994156662,\n",
       "              1.2239022814575518,\n",
       "              2.1833193804983124,\n",
       "              2.1134953074453526,\n",
       "              2.42375167442536,\n",
       "              0.7675337603064771,\n",
       "              38.0783366726871,\n",
       "              1.0065073205560702,\n",
       "              2.3116797872575297,\n",
       "              1.3480436686411612,\n",
       "              2.1968076209613723,\n",
       "              1.5751773812574086,\n",
       "              2.9807721645268286,\n",
       "              1.4632975246485487,\n",
       "              2.010841263678504,\n",
       "              0.5526781717120638,\n",
       "              2.171859512949192,\n",
       "              1.154004860692617,\n",
       "              1.4917316311141173,\n",
       "              1.0799695709174622,\n",
       "              1.5737665587817584,\n",
       "              1.026612252813069,\n",
       "              0.7621148201985732,\n",
       "              1.3735830172121408,\n",
       "              0.564668874675168,\n",
       "              1.4271341316500816,\n",
       "              1.8314577592944574,\n",
       "              2.171061425491183,\n",
       "              1.0523753928699635,\n",
       "              1.2624635343146933,\n",
       "              0.5792343772406655,\n",
       "              1.2832759892798156,\n",
       "              0.726267679970276,\n",
       "              0.5540037663880134,\n",
       "              2.357292175689565,\n",
       "              1.2092161829891397,\n",
       "              0.7151268940924043,\n",
       "              1.0796656451432232,\n",
       "              0.23503798626507086,\n",
       "              1.858665553702202,\n",
       "              0.761791843897332,\n",
       "              1.3481801616751377,\n",
       "              1.2609338818811167,\n",
       "              0.6374837531809476,\n",
       "              0.25540437820119727,\n",
       "              0.04254939866499618,\n",
       "              1.1984306371668043,\n",
       "              0.45411075375808296,\n",
       "              1.343607859758674,\n",
       "              0.9501497935427824,\n",
       "              0.7250164647128508,\n",
       "              1.5048395924626905,\n",
       "              0.6690704684004104,\n",
       "              1.7669212090719284,\n",
       "              2.1846244464344395,\n",
       "              0.9857977613274084,\n",
       "              0.28566305933309966,\n",
       "              1.3689907673588142,\n",
       "              3.932824435679398,\n",
       "              3.2567692352663418,\n",
       "              0.7196953778811201,\n",
       "              1.937602981829859,\n",
       "              0.3192424687001771,\n",
       "              2.1388044443891654,\n",
       "              0.4490456461488244,\n",
       "              0.33254845604929334,\n",
       "              0.5164912787559525,\n",
       "              1.6214703457701367,\n",
       "              0.9078139313159644,\n",
       "              0.5174686111763617,\n",
       "              0.28771361282742236,\n",
       "              0.623694136195818,\n",
       "              0.4826086001967317,\n",
       "              0.1935746183132336,\n",
       "              1.0964264329102613,\n",
       "              0.6311919451592576,\n",
       "              0.783838212822944,\n",
       "              0.3605145897159866,\n",
       "              0.6163748791396598,\n",
       "              1.2089695519955375,\n",
       "              1.0423968797219236,\n",
       "              0.2945899958944867,\n",
       "              0.3706982612827726,\n",
       "              0.7329946787850303,\n",
       "              1.4463407524731853,\n",
       "              0.7144135771986269,\n",
       "              0.35638476641287065,\n",
       "              0.3249953557232751,\n",
       "              0.913826936605422,\n",
       "              0.906533663121955,\n",
       "              0.6689264017103781,\n",
       "              0.6224988216991725,\n",
       "              0.8480441316661572,\n",
       "              1.729666090583686,\n",
       "              0.1665091816414768,\n",
       "              0.6629649997057933,\n",
       "              0.2527640189796718,\n",
       "              0.5576265607795242,\n",
       "              0.6730334380089629,\n",
       "              1.0339185605577468,\n",
       "              0.5153580858067811,\n",
       "              0.3937313371411708,\n",
       "              0.5720162301829685,\n",
       "              0.5085618921482844,\n",
       "              0.32372618972481804,\n",
       "              0.49080031691415854,\n",
       "              0.285151838609494,\n",
       "              0.838197901746404,\n",
       "              0.7741060988708166,\n",
       "              0.43267074415303935,\n",
       "              0.7197231070351523,\n",
       "              0.8163380362041558,\n",
       "              0.23686933654588885,\n",
       "              0.551896755984989,\n",
       "              0.37657350309771037,\n",
       "              0.6391495420853253,\n",
       "              0.5203235199014559,\n",
       "              1.4186355967813935,\n",
       "              0.7431820859137276,\n",
       "              1.1875691192321116,\n",
       "              0.5005724150139321,\n",
       "              1.1205126050421066,\n",
       "              0.3360146701347077,\n",
       "              0.725541999160538,\n",
       "              0.9721707600155399,\n",
       "              1.4508438572273774,\n",
       "              0.5397610765601708,\n",
       "              1.0267134875087058,\n",
       "              0.7337856238796189,\n",
       "              1.6980564437684775,\n",
       "              1.4144274523390303,\n",
       "              1.0894493702519044,\n",
       "              0.6061266013949568,\n",
       "              2.8991615340283423,\n",
       "              1.6920228336079581,\n",
       "              1.154366512633495,\n",
       "              0.6398757114825137,\n",
       "              0.5650300335752969,\n",
       "              0.6005197829663078,\n",
       "              0.31099710787396406,\n",
       "              2.061220467196784,\n",
       "              0.891081041365071,\n",
       "              3.892306175891757,\n",
       "              1.0190457081919417,\n",
       "              0.7976921153164124,\n",
       "              1.3170781780722987,\n",
       "              2.1102688547614306,\n",
       "              0.3468433653813189,\n",
       "              1.928103426519424,\n",
       "              2.2923592609400942,\n",
       "              1.3157962453550616,\n",
       "              1.7054635278376737,\n",
       "              1.9658834739377342,\n",
       "              0.33605411290439186,\n",
       "              0.7793808825902097,\n",
       "              2.255044754981753,\n",
       "              0.9205334044431127,\n",
       "              2.060943403428423,\n",
       "              2.070651413503258,\n",
       "              1.1661596770289062,\n",
       "              1.2342737577271574,\n",
       "              1.0650934278207753,\n",
       "              0.9267042353276856,\n",
       "              2.103530402228559,\n",
       "              0.8109849954064884,\n",
       "              2.183409735834005,\n",
       "              1.3449262009592868,\n",
       "              1.4726041784050439,\n",
       "              1.2115820506683335,\n",
       "              0.20506027969096263,\n",
       "              1.3459759801157327,\n",
       "              1.913515972884272,\n",
       "              1.8238557661539543,\n",
       "              0.8564437465283484,\n",
       "              0.43536965963625324,\n",
       "              0.21473047203894177,\n",
       "              0.9249939752250229,\n",
       "              0.20942823003238856,\n",
       "              1.130266960316782,\n",
       "              0.8642677830150938,\n",
       "              0.32823062393335367,\n",
       "              1.2716810451078755,\n",
       "              1.647984550413621,\n",
       "              1.1465475287317781,\n",
       "              1.1179807717882577,\n",
       "              1.4137412872352382,\n",
       "              0.4895664795995521,\n",
       "              0.18322765452927914,\n",
       "              0.522723980756289,\n",
       "              0.25422625291033907,\n",
       "              1.524963579873557,\n",
       "              1.105235270007685,\n",
       "              0.5268013318822566,\n",
       "              0.20799371525015564,\n",
       "              0.8809295230849704,\n",
       "              0.4311839893218003,\n",
       "              0.7887952930548066,\n",
       "              1.10501572858263,\n",
       "              0.2415172692328132,\n",
       "              1.2284749114403688,\n",
       "              0.9920130982643117,\n",
       "              0.2239946701200495,\n",
       "              1.3181172834606403,\n",
       "              0.5374243973579267,\n",
       "              0.9854883308729803,\n",
       "              0.44320475218113414,\n",
       "              1.6139941187055304,\n",
       "              1.1118475824036782,\n",
       "              1.1444049530721523,\n",
       "              0.3361304882353114,\n",
       "              0.6552018727077361,\n",
       "              0.2883104258774276,\n",
       "              1.6440074198752945,\n",
       "              0.8199842424646788,\n",
       "              0.08884570439533387],\n",
       "             'gaze_angle_error_filtered': [0.8766211172682876,\n",
       "              3.3779878914576953,\n",
       "              2.0740666918041044,\n",
       "              2.1204288833250877,\n",
       "              1.7188854752269047,\n",
       "              1.7409057135946986,\n",
       "              0.6926042435430066,\n",
       "              2.022971868161075,\n",
       "              1.7774756883248426,\n",
       "              0.7965395362039235,\n",
       "              1.5079690869806588,\n",
       "              1.1478928663248162,\n",
       "              0.5682471066163206,\n",
       "              1.960096930378965,\n",
       "              1.610981154652835,\n",
       "              2.861954626689162,\n",
       "              1.696815551901092,\n",
       "              1.7912072324371457,\n",
       "              2.6611372800592847,\n",
       "              1.891901052176426,\n",
       "              0.6791823612180646,\n",
       "              2.1141145944453137,\n",
       "              0.656909138415276,\n",
       "              2.122067809627982,\n",
       "              1.7335945402881776,\n",
       "              1.339125684993644,\n",
       "              2.110109602183978,\n",
       "              1.7115355232288365,\n",
       "              0.799034816483415,\n",
       "              2.1160592077347817,\n",
       "              0.7982892813081452,\n",
       "              1.2944446604621023,\n",
       "              2.5558817981207587,\n",
       "              2.757382501766608,\n",
       "              1.6754527357335092,\n",
       "              1.4673446781762907,\n",
       "              2.510447036435064,\n",
       "              1.7109457577427074,\n",
       "              3.7238429515262803,\n",
       "              1.080645587185649,\n",
       "              1.4503785397787772,\n",
       "              0.1715496579541569,\n",
       "              0.7114794251685573,\n",
       "              1.2485736243957768,\n",
       "              2.012814697360561,\n",
       "              0.9515009627936261,\n",
       "              1.7321714879720926,\n",
       "              0.08185354457779623,\n",
       "              0.3384041220218309,\n",
       "              3.7817931943635923,\n",
       "              0.544741051574142,\n",
       "              0.8856123351736153,\n",
       "              1.3981721952232764,\n",
       "              1.8771539938564916,\n",
       "              0.4613270761136851,\n",
       "              1.6312132348763106,\n",
       "              1.3227729308251823,\n",
       "              0.783785697251251,\n",
       "              1.8636013707754853,\n",
       "              0.20715482163500137,\n",
       "              1.9391784658219806,\n",
       "              1.6314826797022035,\n",
       "              1.4898985919991594,\n",
       "              1.1016170978762934,\n",
       "              0.636225817739524,\n",
       "              1.4062660217740857,\n",
       "              1.5068665871261926,\n",
       "              0.8165254146380038,\n",
       "              0.7909828880848119,\n",
       "              1.0800791545845467,\n",
       "              1.2088666695994488,\n",
       "              0.6484600305747336,\n",
       "              1.7391194798881455,\n",
       "              1.5952297478523432,\n",
       "              1.8356820540300929,\n",
       "              0.761791843897332,\n",
       "              1.5533731500507002,\n",
       "              1.252795256578687,\n",
       "              0.4840054582094937,\n",
       "              1.8002079812108578,\n",
       "              2.4793159216262444,\n",
       "              0.8445560518898523,\n",
       "              0.5564435481895819,\n",
       "              0.999728872421255,\n",
       "              1.3141305792722893,\n",
       "              1.0013190858033183,\n",
       "              1.2343122110955482,\n",
       "              0.7409972650911586,\n",
       "              1.7386736930047222,\n",
       "              2.3743842106780564,\n",
       "              0.8811190454485007,\n",
       "              0.2920778872843548,\n",
       "              0.7849901181479355,\n",
       "              3.3744282334678517,\n",
       "              2.362153674549415,\n",
       "              1.807849324718728,\n",
       "              1.8223233665030687,\n",
       "              0.4123430856510513,\n",
       "              0.9217513238898164,\n",
       "              0.4490456461488244,\n",
       "              0.9981941925714204,\n",
       "              0.39264432843624775,\n",
       "              1.8877973186106256,\n",
       "              2.191522497009703,\n",
       "              0.3892890677935085,\n",
       "              0.8394259932971406,\n",
       "              1.4155424757959723,\n",
       "              0.31544950890706214,\n",
       "              1.1171118349690685,\n",
       "              0.7923896888963392,\n",
       "              0.0787033045808405,\n",
       "              1.4679693589963108,\n",
       "              1.4457636227173771,\n",
       "              1.1695507037187796,\n",
       "              1.5505475750132303,\n",
       "              1.6894662631745494,\n",
       "              0.922628519859122,\n",
       "              0.8562035506803836,\n",
       "              1.000706887541131,\n",
       "              0.771314629542583,\n",
       "              1.0188851542780797,\n",
       "              1.5628195646120517,\n",
       "              1.3186056795483807,\n",
       "              1.439736421464747,\n",
       "              1.0517780899073907,\n",
       "              1.0936732396398747,\n",
       "              1.591313587496318,\n",
       "              1.1037063175756392,\n",
       "              0.2793246895059776,\n",
       "              0.7742820110818297,\n",
       "              0.5896632223514845,\n",
       "              0.2527640189796718,\n",
       "              2.169650367416745,\n",
       "              1.4926782309542967,\n",
       "              2.0912726345267743,\n",
       "              0.9923397972087702,\n",
       "              0.6363324240917886,\n",
       "              1.2295167247367849,\n",
       "              0.4839983569386089,\n",
       "              0.6295297498107717,\n",
       "              0.21214752137926926,\n",
       "              0.7940754113642832,\n",
       "              0.5828391384383056,\n",
       "              0.5913915829283654,\n",
       "              1.8502240485018662,\n",
       "              1.1317700449355068,\n",
       "              0.822905580745069,\n",
       "              0.9321458198809365,\n",
       "              0.3501307556298332,\n",
       "              0.43401293471690366,\n",
       "              2.3670891905569555,\n",
       "              2.319933793977917,\n",
       "              1.2806954536051465,\n",
       "              1.0852551573266145,\n",
       "              1.3298612114380417,\n",
       "              0.5189640995214353,\n",
       "              2.6128335111602192,\n",
       "              0.8386117684704403,\n",
       "              0.1465843923041869,\n",
       "              0.7206536410557102,\n",
       "              1.5441539299497182,\n",
       "              1.3915400262606856,\n",
       "              1.0078521359210104,\n",
       "              0.8105085698507271,\n",
       "              2.1836426663731405,\n",
       "              1.2818921565424828,\n",
       "              1.3510406873093252,\n",
       "              1.296327859412352,\n",
       "              0.7433039101786595,\n",
       "              0.4068837476529666,\n",
       "              0.9217918379830169,\n",
       "              1.7800232945797614,\n",
       "              0.7477019550340062,\n",
       "              1.23900512493315,\n",
       "              0.7079675764227888,\n",
       "              0.3456627030133497,\n",
       "              1.5171137093815652,\n",
       "              1.1523248036523626,\n",
       "              0.6749951774323834,\n",
       "              1.0573786626001642,\n",
       "              0.9740972782724566,\n",
       "              2.398435804294637,\n",
       "              2.782661668456383,\n",
       "              1.4630692964289789,\n",
       "              4.126148649032314,\n",
       "              0.927578078918962,\n",
       "              3.3785189879780915,\n",
       "              0.8153371814743446,\n",
       "              0.5415868196663162,\n",
       "              0.6375654231989264,\n",
       "              2.1518792311047923,\n",
       "              0.9899110427652845,\n",
       "              0.6399104685173056,\n",
       "              1.8114401363643324,\n",
       "              0.8851508984975455,\n",
       "              1.137552358277829,\n",
       "              0.695825027678881,\n",
       "              1.065227261381445,\n",
       "              0.4526516342936165,\n",
       "              0.811891107495043,\n",
       "              0.6885374546454298,\n",
       "              1.1396892440623974,\n",
       "              1.344328525558465,\n",
       "              1.8232887208874666,\n",
       "              1.0738793045606743,\n",
       "              0.8585987412593036,\n",
       "              1.9411963675602932,\n",
       "              2.1863050615669004,\n",
       "              0.648762614013711,\n",
       "              1.0498510710449933,\n",
       "              1.9222947157191432,\n",
       "              1.9236236974904148,\n",
       "              2.028444913119611,\n",
       "              1.2380515978599016,\n",
       "              1.180929279099108,\n",
       "              1.0063066110317136,\n",
       "              0.5961867620367304,\n",
       "              0.6349980277540522,\n",
       "              1.094430609992482,\n",
       "              0.8165583111407613,\n",
       "              1.94092333203103,\n",
       "              2.9641795992988893,\n",
       "              1.5303471468532062,\n",
       "              0.8047897995420844,\n",
       "              0.32973002316656896,\n",
       "              3.164540500942059,\n",
       "              2.6501130485113364,\n",
       "              1.97749294280115,\n",
       "              1.7979704916808208,\n",
       "              0.9790555483665752,\n",
       "              2.4930346544388415,\n",
       "              2.274253267384335,\n",
       "              2.3372157978842942,\n",
       "              2.1213577328021187,\n",
       "              0.400754614370139,\n",
       "              0.9515898999549252,\n",
       "              1.5685463834615019,\n",
       "              2.8295761585259913,\n",
       "              2.0340301203035867,\n",
       "              0.8912074426512564,\n",
       "              0.4753703187723012,\n",
       "              1.9490982104955055,\n",
       "              2.5889353084180597,\n",
       "              1.598198932310985,\n",
       "              2.096099316145328,\n",
       "              1.9607545720751602,\n",
       "              1.7971545388029386,\n",
       "              1.3841543726039147,\n",
       "              2.368736647706623,\n",
       "              1.881968815331573]})"
      ]
     },
     "execution_count": 82,
     "metadata": {},
     "output_type": "execute_result"
    }
   ],
   "source": [
    "res[0][0].data"
   ]
  },
  {
   "cell_type": "code",
   "execution_count": 90,
   "metadata": {},
   "outputs": [
    {
     "data": {
      "text/html": [
       "<div>\n",
       "<style scoped>\n",
       "    .dataframe tbody tr th:only-of-type {\n",
       "        vertical-align: middle;\n",
       "    }\n",
       "\n",
       "    .dataframe tbody tr th {\n",
       "        vertical-align: top;\n",
       "    }\n",
       "\n",
       "    .dataframe thead th {\n",
       "        text-align: right;\n",
       "    }\n",
       "</style>\n",
       "<table border=\"1\" class=\"dataframe\">\n",
       "  <thead>\n",
       "    <tr style=\"text-align: right;\">\n",
       "      <th></th>\n",
       "      <th>gaze_angle_error_source</th>\n",
       "      <th>gaze_angle_error_filtered</th>\n",
       "      <th>filter</th>\n",
       "      <th>Filter</th>\n",
       "      <th>scale_group</th>\n",
       "    </tr>\n",
       "  </thead>\n",
       "  <tbody>\n",
       "    <tr>\n",
       "      <th>0</th>\n",
       "      <td>1.528435</td>\n",
       "      <td>0.876621</td>\n",
       "      <td>bilateral_filter</td>\n",
       "      <td>Bilateral filter</td>\n",
       "      <td>1x</td>\n",
       "    </tr>\n",
       "    <tr>\n",
       "      <th>1</th>\n",
       "      <td>1.683287</td>\n",
       "      <td>3.377988</td>\n",
       "      <td>bilateral_filter</td>\n",
       "      <td>Bilateral filter</td>\n",
       "      <td>1x</td>\n",
       "    </tr>\n",
       "    <tr>\n",
       "      <th>2</th>\n",
       "      <td>0.834842</td>\n",
       "      <td>2.074067</td>\n",
       "      <td>bilateral_filter</td>\n",
       "      <td>Bilateral filter</td>\n",
       "      <td>1x</td>\n",
       "    </tr>\n",
       "    <tr>\n",
       "      <th>3</th>\n",
       "      <td>0.489678</td>\n",
       "      <td>2.120429</td>\n",
       "      <td>bilateral_filter</td>\n",
       "      <td>Bilateral filter</td>\n",
       "      <td>1x</td>\n",
       "    </tr>\n",
       "    <tr>\n",
       "      <th>4</th>\n",
       "      <td>2.176911</td>\n",
       "      <td>1.718885</td>\n",
       "      <td>bilateral_filter</td>\n",
       "      <td>Bilateral filter</td>\n",
       "      <td>1x</td>\n",
       "    </tr>\n",
       "    <tr>\n",
       "      <th>...</th>\n",
       "      <td>...</td>\n",
       "      <td>...</td>\n",
       "      <td>...</td>\n",
       "      <td>...</td>\n",
       "      <td>...</td>\n",
       "    </tr>\n",
       "    <tr>\n",
       "      <th>245</th>\n",
       "      <td>0.655202</td>\n",
       "      <td>47.769411</td>\n",
       "      <td>super_filter_reverse</td>\n",
       "      <td>Comb-reverse</td>\n",
       "      <td>10x</td>\n",
       "    </tr>\n",
       "    <tr>\n",
       "      <th>246</th>\n",
       "      <td>0.288310</td>\n",
       "      <td>3.494390</td>\n",
       "      <td>super_filter_reverse</td>\n",
       "      <td>Comb-reverse</td>\n",
       "      <td>10x</td>\n",
       "    </tr>\n",
       "    <tr>\n",
       "      <th>247</th>\n",
       "      <td>1.644007</td>\n",
       "      <td>11.559635</td>\n",
       "      <td>super_filter_reverse</td>\n",
       "      <td>Comb-reverse</td>\n",
       "      <td>10x</td>\n",
       "    </tr>\n",
       "    <tr>\n",
       "      <th>248</th>\n",
       "      <td>0.819984</td>\n",
       "      <td>1.433844</td>\n",
       "      <td>super_filter_reverse</td>\n",
       "      <td>Comb-reverse</td>\n",
       "      <td>10x</td>\n",
       "    </tr>\n",
       "    <tr>\n",
       "      <th>249</th>\n",
       "      <td>0.088846</td>\n",
       "      <td>3.118474</td>\n",
       "      <td>super_filter_reverse</td>\n",
       "      <td>Comb-reverse</td>\n",
       "      <td>10x</td>\n",
       "    </tr>\n",
       "  </tbody>\n",
       "</table>\n",
       "<p>16250 rows × 5 columns</p>\n",
       "</div>"
      ],
      "text/plain": [
       "     gaze_angle_error_source  gaze_angle_error_filtered                filter  \\\n",
       "0                   1.528435                   0.876621      bilateral_filter   \n",
       "1                   1.683287                   3.377988      bilateral_filter   \n",
       "2                   0.834842                   2.074067      bilateral_filter   \n",
       "3                   0.489678                   2.120429      bilateral_filter   \n",
       "4                   2.176911                   1.718885      bilateral_filter   \n",
       "..                       ...                        ...                   ...   \n",
       "245                 0.655202                  47.769411  super_filter_reverse   \n",
       "246                 0.288310                   3.494390  super_filter_reverse   \n",
       "247                 1.644007                  11.559635  super_filter_reverse   \n",
       "248                 0.819984                   1.433844  super_filter_reverse   \n",
       "249                 0.088846                   3.118474  super_filter_reverse   \n",
       "\n",
       "               Filter scale_group  \n",
       "0    Bilateral filter          1x  \n",
       "1    Bilateral filter          1x  \n",
       "2    Bilateral filter          1x  \n",
       "3    Bilateral filter          1x  \n",
       "4    Bilateral filter          1x  \n",
       "..                ...         ...  \n",
       "245      Comb-reverse         10x  \n",
       "246      Comb-reverse         10x  \n",
       "247      Comb-reverse         10x  \n",
       "248      Comb-reverse         10x  \n",
       "249      Comb-reverse         10x  \n",
       "\n",
       "[16250 rows x 5 columns]"
      ]
     },
     "execution_count": 90,
     "metadata": {},
     "output_type": "execute_result"
    }
   ],
   "source": [
    "rows = []\n",
    "for c, fn, r in zip(configs, fnames, res):\n",
    "    for (name, params), rl in zip(c['filters'].items(), r):\n",
    "        df = pd.DataFrame(rl.data)\n",
    "        df['filter'] = name\n",
    "        df['Filter'] = filter_name_map[name]\n",
    "        df['scale_group'] = fn\n",
    "        rows.append(df)\n",
    "\n",
    "frame = pd.concat(rows)\n",
    "frame.to_pickle('data/Gaze.pkl')\n",
    "frame"
   ]
  },
  {
   "cell_type": "code",
   "execution_count": null,
   "metadata": {},
   "outputs": [],
   "source": []
  }
 ],
 "metadata": {
  "kernelspec": {
   "display_name": "Python 3",
   "language": "python",
   "name": "python3"
  },
  "language_info": {
   "codemirror_mode": {
    "name": "ipython",
    "version": 3
   },
   "file_extension": ".py",
   "mimetype": "text/x-python",
   "name": "python",
   "nbconvert_exporter": "python",
   "pygments_lexer": "ipython3",
   "version": "3.7.9"
  }
 },
 "nbformat": 4,
 "nbformat_minor": 4
}
