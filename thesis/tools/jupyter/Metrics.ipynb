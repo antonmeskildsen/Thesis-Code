{
 "cells": [
  {
   "cell_type": "code",
   "execution_count": 3,
   "metadata": {},
   "outputs": [],
   "source": [
    "import os\n",
    "import click\n",
    "import pickle\n",
    "from tqdm import tqdm\n",
    "from numba import njit, prange\n",
    "\n",
    "import numpy as np\n",
    "import pandas as pd"
   ]
  },
  {
   "cell_type": "code",
   "execution_count": 4,
   "metadata": {},
   "outputs": [],
   "source": [
    "@njit\n",
    "def find_gt(sorted_array, value, start=0):\n",
    "    i = start\n",
    "    while i < len(sorted_array):\n",
    "        if sorted_array[i] >= value:\n",
    "            break\n",
    "        i += 1\n",
    "    return i\n",
    "\n",
    "\n",
    "def process_file(data, N):\n",
    "    res = []\n",
    "    for spec in tqdm(data.keys()):\n",
    "        intra = data[spec]['intra_distance']/16296\n",
    "        inter = data[spec]['inter_distance']/16296\n",
    "        ls = line(intra, inter, N)\n",
    "        ls = list(map(dict, ls))\n",
    "        for l in ls:\n",
    "            l['name'] = spec\n",
    "        res.extend(ls)\n",
    "\n",
    "    return res\n",
    "\n",
    "\n",
    "@njit\n",
    "def line(intra, inter, N):\n",
    "    res = []\n",
    "\n",
    "    sorted_intra = np.sort(intra)\n",
    "    sorted_inter = np.sort(inter)\n",
    "    n_intra = len(intra)\n",
    "    n_inter = len(inter)\n",
    "    intra_idx = 0\n",
    "    inter_idx = 0\n",
    "    for i in range(N):\n",
    "        x = i / N\n",
    "\n",
    "        intra_idx = find_gt(sorted_intra, x, intra_idx)\n",
    "        inter_idx = find_gt(sorted_inter, x, inter_idx)\n",
    "\n",
    "        tp = intra_idx\n",
    "        tn = n_inter - inter_idx\n",
    "        fp = inter_idx\n",
    "        fn = n_intra - intra_idx\n",
    "\n",
    "        m = {\n",
    "            'threshold': x,\n",
    "            'tp': tp,\n",
    "            'tn': tn,\n",
    "            'fp': fp,\n",
    "            'fn': fn,\n",
    "        }\n",
    "        res.append(m)\n",
    "    return res\n",
    "\n",
    "\n",
    "filter_name_map = {\n",
    "    'bilateral_filter': 'Bilateral filter',\n",
    "    'gaussian_filter': 'Gaussian filter',\n",
    "    'mean_filter': 'Mean filter',\n",
    "    'median_filter': 'Median filter',\n",
    "    'non_local_means': 'Non-local means',\n",
    "    'uniform_noise': 'Uniform noise',\n",
    "    'gaussian_noise': 'Gaussian noise',\n",
    "    'cauchy_noise': 'Cauchy noise',\n",
    "    'laplacian_noise': 'Laplacian noise',\n",
    "    'snow': 'Snow noise',\n",
    "    'salt_and_pepper': 'Salt-and-pepper noise',\n",
    "    'super_filter': 'Comb',\n",
    "    'super_filter_reverse': 'Comb Reverse',\n",
    "    'baseline': 'Baseline'\n",
    "}"
   ]
  },
  {
   "cell_type": "code",
   "execution_count": 5,
   "metadata": {},
   "outputs": [],
   "source": [
    "base = 'data/compressed'"
   ]
  },
  {
   "cell_type": "code",
   "execution_count": 6,
   "metadata": {},
   "outputs": [],
   "source": [
    "def convert(scale, N=10000):\n",
    "    in_path = os.path.join(base, f'{scale}.pkl')\n",
    "    out_path = os.path.join('data/metrics', f'{scale}.pkl')\n",
    "    with open(in_path, 'rb') as f:\n",
    "        data = pickle.load(f)\n",
    "        r = pd.DataFrame(process_file(data, N))\n",
    "        r['far'] = r['fp'] / (r['fp'] + r['tn'])\n",
    "        r['frr'] = r['fn'] / (r['fn'] + r['tp'])\n",
    "        r['precision'] = r['tp'] / (r['tp'] + r['fp'])\n",
    "        r['recall'] = r['tp'] / (r['tp'] + r['fn'])\n",
    "        r['f1'] = (r['precision'] * r['recall']) / (r['precision'] + r['recall'])\n",
    "        r['accuracy'] = (r['tp'] + r['tn']) / (r['tp'] + r['tn'] + r['fp'] + r['fn'])\n",
    "        r['filter'] = r['name'].apply(filter_name_map.get)\n",
    "\n",
    "        r['scale'] = scale\n",
    "\n",
    "        r.to_pickle(out_path)"
   ]
  },
  {
   "cell_type": "code",
   "execution_count": 7,
   "metadata": {},
   "outputs": [
    {
     "name": "stderr",
     "output_type": "stream",
     "text": [
      "100%|██████████| 14/14 [00:15<00:00,  1.11s/it]\n",
      "100%|██████████| 14/14 [00:10<00:00,  1.36it/s]\n",
      "100%|██████████| 14/14 [00:10<00:00,  1.34it/s]\n",
      "100%|██████████| 14/14 [00:10<00:00,  1.31it/s]\n",
      "100%|██████████| 14/14 [00:10<00:00,  1.35it/s]\n"
     ]
    }
   ],
   "source": [
    "N = 1000\n",
    "compare_base = ['1xP', '1.5xP', '2xP', '5xP', '10xP']\n",
    "#compare_self = ['1xS', '1.5xS', '2xS', '5xS', '10xS']\n",
    "\n",
    "compare_base = [convert(c, N) for c in compare_base]\n",
    "#compare_self = [convert(c, N) for c in compare_self]"
   ]
  },
  {
   "cell_type": "code",
   "execution_count": null,
   "metadata": {},
   "outputs": [],
   "source": []
  }
 ],
 "metadata": {
  "kernelspec": {
   "display_name": "Python 3",
   "language": "python",
   "name": "python3"
  },
  "language_info": {
   "codemirror_mode": {
    "name": "ipython",
    "version": 3
   },
   "file_extension": ".py",
   "mimetype": "text/x-python",
   "name": "python",
   "nbconvert_exporter": "python",
   "pygments_lexer": "ipython3",
   "version": "3.7.9"
  }
 },
 "nbformat": 4,
 "nbformat_minor": 4
}
