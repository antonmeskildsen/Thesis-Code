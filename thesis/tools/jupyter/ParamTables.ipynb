{
 "cells": [
  {
   "cell_type": "markdown",
   "metadata": {},
   "source": [
    "# Setup"
   ]
  },
  {
   "cell_type": "code",
   "execution_count": 2,
   "metadata": {},
   "outputs": [],
   "source": [
    "import yaml\n",
    "import pandas as pd\n",
    "import numpy as np\n",
    "\n",
    "import clipboard\n",
    "\n",
    "from names import *\n",
    "from styles import *"
   ]
  },
  {
   "cell_type": "code",
   "execution_count": 3,
   "metadata": {},
   "outputs": [],
   "source": [
    "parameter_name_map = {\n",
    "    'loc': '$\\mu$',\n",
    "    'sigma_c': '$\\sigma_c$',\n",
    "    'sigma_s': '$\\sigma_s$',\n",
    "    'scale': '$\\sigma$',\n",
    "    'sigma': '$\\sigma$',\n",
    "    'h': '$h$',\n",
    "    'density': 'Density',\n",
    "    'intensity': 'Intensity',\n",
    "    'size': 'Kernel size'\n",
    "}\n",
    "\n",
    "type_name_map = {\n",
    "    'const': 'Constant',\n",
    "    'samples_num': 'Interpolation',\n",
    "    'samples_step': 'Increments'\n",
    "}"
   ]
  },
  {
   "cell_type": "code",
   "execution_count": 4,
   "metadata": {},
   "outputs": [
    {
     "name": "stderr",
     "output_type": "stream",
     "text": [
      "/Users/Anton/anaconda3/envs/iaml/lib/python3.7/site-packages/pandas/core/frame.py:4167: SettingWithCopyWarning: \n",
      "A value is trying to be set on a copy of a slice from a DataFrame\n",
      "\n",
      "See the caveats in the documentation: https://pandas.pydata.org/pandas-docs/stable/user_guide/indexing.html#returning-a-view-versus-a-copy\n",
      "  errors=errors,\n"
     ]
    }
   ],
   "source": [
    "with open('data/optim_config.yaml') as f:\n",
    "    data = yaml.safe_load(f)\n",
    "\n",
    "params = []\n",
    "keys = ['start', 'stop', 'num', 'step']\n",
    "for f, par_dict in data.items():\n",
    "    for p, config in par_dict.items():\n",
    "        t = config['type']\n",
    "        s_dict = config['params']\n",
    "        s_vals = [s_dict.get(k, 0) for k in keys]\n",
    "        ns = {\n",
    "            'Type': type_name_map[t],\n",
    "            'Filter': filter_name_map[f],\n",
    "            'Parameter': parameter_name_map[p],\n",
    "        }\n",
    "        ns.update(s_dict)\n",
    "        params.append(ns)\n",
    "\n",
    "df = pd.DataFrame(params)\n",
    "df.sort_values(['Type', 'Filter', 'Parameter'], inplace=True)\n",
    "df = df.drop(columns='val')\n",
    "df = df[df['Type'] != 'Constant']\n",
    "\n",
    "dfa = df[df['Type'] == 'Increments']\n",
    "dfa.drop(columns=['Type', 'num'], inplace=True)\n",
    "dfb = df[df['Type'] == 'Interpolation']\n",
    "dfb.drop(columns=['Type', 'step'], inplace=True)"
   ]
  },
  {
   "cell_type": "markdown",
   "metadata": {},
   "source": [
    "# Tables"
   ]
  },
  {
   "cell_type": "markdown",
   "metadata": {},
   "source": [
    "## Parameter tables"
   ]
  },
  {
   "cell_type": "code",
   "execution_count": 17,
   "metadata": {},
   "outputs": [],
   "source": [
    "levels_a = pd.MultiIndex.from_frame(dfa).to_frame()\n",
    "levels_a = levels_a[[]]"
   ]
  },
  {
   "cell_type": "code",
   "execution_count": 8,
   "metadata": {},
   "outputs": [],
   "source": [
    "dfa.to_csv('out/param_table_a.csv')"
   ]
  },
  {
   "cell_type": "code",
   "execution_count": 24,
   "metadata": {},
   "outputs": [],
   "source": [
    "levels_a.to_latex(\n",
    "    'out/param_table_a.tex',\n",
    "    multicolumn=True, \n",
    "    multirow=True, \n",
    "    decimal='.', \n",
    "    index=True, \n",
    "    escape=False,\n",
    "    #float_format='{:2.2f}',\n",
    "    na_rep='NA')"
   ]
  },
  {
   "cell_type": "code",
   "execution_count": 18,
   "metadata": {},
   "outputs": [],
   "source": [
    "levels_b = pd.MultiIndex.from_frame(dfb).to_frame()\n",
    "levels_b = levels_b[[]]"
   ]
  },
  {
   "cell_type": "code",
   "execution_count": 19,
   "metadata": {},
   "outputs": [],
   "source": [
    "dfb.to_csv('out/param_table_b.csv')"
   ]
  },
  {
   "cell_type": "code",
   "execution_count": 20,
   "metadata": {},
   "outputs": [],
   "source": [
    "levels_b.to_latex(\n",
    "    'out/param_table_b.tex',\n",
    "    multicolumn=True, \n",
    "    multirow=True, \n",
    "    decimal='.', \n",
    "    index=True, \n",
    "    escape=False,\n",
    "    #float_format='{:2.2f}',\n",
    "    na_rep='NA')"
   ]
  },
  {
   "cell_type": "markdown",
   "metadata": {},
   "source": [
    "## Iris param table"
   ]
  },
  {
   "cell_type": "code",
   "execution_count": 10,
   "metadata": {},
   "outputs": [],
   "source": [
    "names = ['1x', '1.5x', '2x', '5x', '10x']\n",
    "rows = []\n",
    "for n in names:\n",
    "    with open(f'data/iris/{n}.yaml') as f:\n",
    "        d = yaml.safe_load(f)['filters']\n",
    "        res = []\n",
    "        for k, v in d.items():\n",
    "            for (pk, pv) in v.items():\n",
    "                res.append((filter_name_map[k], n, parameter_name_map[pk], pv))\n",
    "        d = pd.DataFrame(res, columns=['Filter', 'Experiment', 'Parameter', 'Value'])\n",
    "        #d = d.pivot(columns='experiment')\n",
    "        \n",
    "        rows.append(d)\n",
    "\n",
    "frame = pd.concat(rows)"
   ]
  },
  {
   "cell_type": "code",
   "execution_count": 21,
   "metadata": {},
   "outputs": [],
   "source": [
    "f = frame.pivot(columns='Experiment', index=['Filter', 'Parameter'])\n",
    "f = f.reindex(names, level=1, axis=1)"
   ]
  },
  {
   "cell_type": "code",
   "execution_count": 13,
   "metadata": {},
   "outputs": [],
   "source": [
    "pd.options.display.float_format = '${:,.4f}'.format"
   ]
  },
  {
   "cell_type": "code",
   "execution_count": 14,
   "metadata": {},
   "outputs": [],
   "source": [
    "f.to_latex(\n",
    "    'out/iris-params.tex',\n",
    "    multicolumn=True, \n",
    "    multirow=True, \n",
    "    decimal='.', \n",
    "    index=True, \n",
    "    longtable=False,\n",
    "    escape=False,\n",
    "    float_format=lambda x: '{:0.4f}'.format(x),\n",
    "    na_rep='NA')"
   ]
  },
  {
   "cell_type": "code",
   "execution_count": 15,
   "metadata": {},
   "outputs": [],
   "source": [
    "f.to_csv('out/iris-params.csv')"
   ]
  }
 ],
 "metadata": {
  "kernelspec": {
   "display_name": "Python 3",
   "language": "python",
   "name": "python3"
  },
  "language_info": {
   "codemirror_mode": {
    "name": "ipython",
    "version": 3
   },
   "file_extension": ".py",
   "mimetype": "text/x-python",
   "name": "python",
   "nbconvert_exporter": "python",
   "pygments_lexer": "ipython3",
   "version": "3.7.9"
  }
 },
 "nbformat": 4,
 "nbformat_minor": 4
}
