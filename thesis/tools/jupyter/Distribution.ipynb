{
 "cells": [
  {
   "cell_type": "code",
   "execution_count": 3,
   "metadata": {},
   "outputs": [],
   "source": [
    "import os\n",
    "\n",
    "import pandas as pd\n",
    "import numpy as np\n",
    "\n",
    "from scipy import stats\n",
    "\n",
    "import matplotlib.pyplot as plt\n",
    "import seaborn as sns"
   ]
  },
  {
   "cell_type": "code",
   "execution_count": 4,
   "metadata": {},
   "outputs": [],
   "source": [
    "base = 'data/compressed'\n",
    "compare_base = ['1x', '1.5x', '2x', '5x', '10x']\n",
    "compare_self = ['1xS', '1.5xS', '2xS', '5xS', '10xS']\n",
    "\n",
    "compare_base = [pd.read_pickle(os.path.join(base, f'{c}.pkl')) for c in compare_base]\n",
    "compare_self = [pd.read_pickle(os.path.join(base, f'{c}.pkl')) for c in compare_self]"
   ]
  },
  {
   "cell_type": "code",
   "execution_count": 31,
   "metadata": {},
   "outputs": [
    {
     "data": {
      "text/plain": [
       "<matplotlib.axes._subplots.AxesSubplot at 0x7f80dda23950>"
      ]
     },
     "execution_count": 31,
     "metadata": {},
     "output_type": "execute_result"
    },
    {
     "data": {
      "image/png": "[encoded data removed]",
      "text/plain": [
       "<Figure size 432x288 with 1 Axes>"
      ]
     },
     "metadata": {
      "needs_background": "light"
     },
     "output_type": "display_data"
    }
   ],
   "source": [
    "df = compare_self[4]['cauchy_noise']\n",
    "sns.distplot(df['inter_distance']/16296, kde=False, norm_hist=True)\n",
    "sns.distplot(df['intra_distance']/16296, kde=False, norm_hist=True)"
   ]
  },
  {
   "cell_type": "code",
   "execution_count": 32,
   "metadata": {},
   "outputs": [
    {
     "data": {
      "text/plain": [
       "KstestResult(statistic=0.6024431731937675, pvalue=0.0)"
      ]
     },
     "execution_count": 32,
     "metadata": {},
     "output_type": "execute_result"
    }
   ],
   "source": [
    "df = compare_self[4]['cauchy_noise']\n",
    "\n",
    "\n",
    "stats.kstest(df['inter_distance'], df['intra_distance'])"
   ]
  },
  {
   "cell_type": "code",
   "execution_count": 31,
   "metadata": {},
   "outputs": [],
   "source": [
    "def search_eer(intra, inter):\n",
    "    len_intra = len(intra)\n",
    "    len_inter = len(inter)\n",
    "    \n",
    "\n",
    "    \n",
    "def search_binary(intra, inter):\n",
    "    l = len(intra)\n",
    "    frac = len(intra)/len(inter)\n",
    "    best_p = (0, 0)\n",
    "    best_val = 10e10\n",
    "    \n",
    "    for i in range(len(intra)):\n",
    "        j = len(intra)-int(i*frac)-1\n",
    "\n",
    "        diff = abs(intra[i]-inter[j])\n",
    "        if diff < best_val:\n",
    "            best_val = diff\n",
    "            best_p = (i, j)\n",
    "    \n",
    "    tp = i\n",
    "    fp = j\n",
    "    tn = len(inter)-j\n",
    "    fn = len(intra)-i\n",
    "    \n",
    "    far = fp/(fp+tn)\n",
    "    frr = fn/(fn+tp)\n",
    "    \n",
    "    \n",
    "    return best_p, (far, frr)"
   ]
  },
  {
   "cell_type": "code",
   "execution_count": 32,
   "metadata": {},
   "outputs": [
    {
     "name": "stderr",
     "output_type": "stream",
     "text": [
      "/Users/Anton/anaconda3/envs/iaml/lib/python3.7/site-packages/ipykernel_launcher.py:16: RuntimeWarning: overflow encountered in ushort_scalars\n",
      "  app.launch_new_instance()\n"
     ]
    },
    {
     "data": {
      "text/plain": [
       "((3344, 17855), (0.002566023475845709, 5.597850425436632e-05))"
      ]
     },
     "execution_count": 32,
     "metadata": {},
     "output_type": "execute_result"
    }
   ],
   "source": [
    "df = compare_self[4]['cauchy_noise']\n",
    "search_binary(df['intra_distance'], df['inter_distance'])"
   ]
  },
  {
   "cell_type": "code",
   "execution_count": 30,
   "metadata": {},
   "outputs": [
    {
     "data": {
      "text/plain": [
       "0.42427589592538045"
      ]
     },
     "execution_count": 30,
     "metadata": {},
     "output_type": "execute_result"
    }
   ],
   "source": [
    "df['intra_distance'][3344]/16296"
   ]
  },
  {
   "cell_type": "code",
   "execution_count": null,
   "metadata": {},
   "outputs": [],
   "source": []
  }
 ],
 "metadata": {
  "kernelspec": {
   "display_name": "Python 3",
   "language": "python",
   "name": "python3"
  },
  "language_info": {
   "codemirror_mode": {
    "name": "ipython",
    "version": 3
   },
   "file_extension": ".py",
   "mimetype": "text/x-python",
   "name": "python",
   "nbconvert_exporter": "python",
   "pygments_lexer": "ipython3",
   "version": "3.7.9"
  }
 },
 "nbformat": 4,
 "nbformat_minor": 4
}
